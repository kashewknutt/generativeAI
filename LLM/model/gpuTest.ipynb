{
 "cells": [
  {
   "cell_type": "code",
   "execution_count": 2,
   "id": "39d245b3-f8f8-4096-8be3-5eead44b6eb2",
   "metadata": {},
   "outputs": [
    {
     "name": "stdout",
     "output_type": "stream",
     "text": [
      "cuda\n"
     ]
    }
   ],
   "source": [
    "import torch\n",
    "import numpy as np\n",
    "import time\n",
    "device = 'cuda' if torch.cuda.is_available() else 'cpu'\n",
    "print(device)"
   ]
  },
  {
   "cell_type": "code",
   "execution_count": 3,
   "id": "7ee812b0-2b5b-4337-9785-af6c0dd3b8f8",
   "metadata": {},
   "outputs": [
    {
     "name": "stdout",
     "output_type": "stream",
     "text": [
      "0.0010995864868164062\n"
     ]
    }
   ],
   "source": [
    "start_time = time.time()\n",
    "\n",
    "zeros = torch.zeros(1,1)\n",
    "end_time = time.time()\n",
    "\n",
    "total_time = end_time-start_time\n",
    "print(total_time)"
   ]
  },
  {
   "cell_type": "code",
   "execution_count": 7,
   "id": "d4a71cbb",
   "metadata": {},
   "outputs": [
    {
     "name": "stdout",
     "output_type": "stream",
     "text": [
      "GPU time is =  0.025738954544067383\n",
      "CPU time is =  0.17762160301208496\n"
     ]
    }
   ],
   "source": [
    "torch_rand1 = torch.rand(10000, 10000).to(device)\n",
    "torch_rand2 = torch.rand(10000, 10000).to(device)\n",
    "np_rand1 = torch.rand(10000, 10000)\n",
    "np_rand2 = torch.rand(10000, 10000)\n",
    "\n",
    "start_time = time.time()\n",
    "\n",
    "rand = (torch_rand1 @ torch_rand2)\n",
    "\n",
    "end_time = time.time()\n",
    "\n",
    "torchTime = end_time - start_time\n",
    "print('GPU time is = ', torchTime)\n",
    "\n",
    "start_time = time.time()\n",
    "\n",
    "rand = np.multiply(np_rand1, np_rand2)\n",
    "\n",
    "end_time = time.time()\n",
    "\n",
    "npTime = end_time - start_time\n",
    "\n",
    "print('CPU time is = ', npTime)"
   ]
  },
  {
   "cell_type": "code",
   "execution_count": 10,
   "id": "db3fe83f",
   "metadata": {},
   "outputs": [
    {
     "name": "stdout",
     "output_type": "stream",
     "text": [
      "GPU time is =  0.02834320068359375\n",
      "CPU time is =  0.19093704223632812\n"
     ]
    }
   ],
   "source": [
    "torch_rand1 = torch.rand(100, 100,100,100,100,100,100,100).to(device)\n",
    "torch_rand2 = torch.rand(100,100,100,100,100,100,100,100).to(device)\n",
    "np_rand1 = torch.rand(100, 100,100,100,100,100,100,100)\n",
    "np_rand2 = torch.rand(100,100,100,100,100,100,100,100)\n",
    "\n",
    "start_time = time.time()\n",
    "\n",
    "rand = (torch_rand1 @ torch_rand2)\n",
    "\n",
    "end_time = time.time()\n",
    "\n",
    "torchTime = end_time - start_time\n",
    "print('GPU time is = ', torchTime)\n",
    "\n",
    "start_time = time.time()\n",
    "\n",
    "rand = np.multiply(np_rand1, np_rand2)\n",
    "\n",
    "end_time = time.time()\n",
    "\n",
    "npTime = end_time - start_time\n",
    "\n",
    "print('CPU time is = ', npTime)"
   ]
  }
 ],
 "metadata": {
  "kernelspec": {
   "display_name": "Bunnu",
   "language": "python",
   "name": "python3"
  },
  "language_info": {
   "name": "python",
   "version": "3.12.2"
  }
 },
 "nbformat": 4,
 "nbformat_minor": 5
}
