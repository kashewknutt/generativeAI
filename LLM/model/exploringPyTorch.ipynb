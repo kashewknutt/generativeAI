{
 "cells": [
  {
   "cell_type": "code",
   "execution_count": 1,
   "id": "faca5d0b-8f22-4f70-8641-1a2e086cdc0c",
   "metadata": {},
   "outputs": [],
   "source": [
    "import torch"
   ]
  },
  {
   "cell_type": "code",
   "execution_count": 4,
   "id": "d76ef678-8330-486c-88b9-8bb154ce618b",
   "metadata": {},
   "outputs": [
    {
     "name": "stdout",
     "output_type": "stream",
     "text": [
      "tensor([ 93, -31,  11, -80,  36, -66])\n"
     ]
    }
   ],
   "source": [
    "randint = torch.randint(-100,100,(6,))#Generates a random tensor from -100 to 100\n",
    "print(randint)"
   ]
  },
  {
   "cell_type": "code",
   "execution_count": 7,
   "id": "89ed6ec0-f053-4552-a8f8-007e0fa3f6d6",
   "metadata": {},
   "outputs": [
    {
     "data": {
      "text/plain": [
       "tensor([[1, 2],\n",
       "        [3, 4],\n",
       "        [5, 6],\n",
       "        [7, 8]])"
      ]
     },
     "execution_count": 7,
     "metadata": {},
     "output_type": "execute_result"
    }
   ],
   "source": [
    "tensor = torch.tensor([[1,2],[3,4],[5,6],[7,8]])\n",
    "tensor"
   ]
  },
  {
   "cell_type": "code",
   "execution_count": 9,
   "id": "6e710023-5103-4025-b1ae-4bf65a007ca4",
   "metadata": {},
   "outputs": [
    {
     "data": {
      "text/plain": [
       "tensor([[0., 0., 0., 0., 0., 0.],\n",
       "        [0., 0., 0., 0., 0., 0.],\n",
       "        [0., 0., 0., 0., 0., 0.],\n",
       "        [0., 0., 0., 0., 0., 0.],\n",
       "        [0., 0., 0., 0., 0., 0.]])"
      ]
     },
     "execution_count": 9,
     "metadata": {},
     "output_type": "execute_result"
    }
   ],
   "source": [
    "tensorZero = torch.zeros(5,6)\n",
    "tensorZero"
   ]
  },
  {
   "cell_type": "code",
   "execution_count": 10,
   "id": "0995ea07-c690-416d-8f11-4eaf1ed39c71",
   "metadata": {},
   "outputs": [
    {
     "data": {
      "text/plain": [
       "tensor([[1., 1.]])"
      ]
     },
     "execution_count": 10,
     "metadata": {},
     "output_type": "execute_result"
    }
   ],
   "source": [
    "tensorOne = torch.ones(1,2)\n",
    "tensorOne"
   ]
  },
  {
   "cell_type": "code",
   "execution_count": 14,
   "id": "840d954e-afa6-405b-b908-4a34afc9d63c",
   "metadata": {},
   "outputs": [
    {
     "data": {
      "text/plain": [
       "tensor([0, 1, 2, 3, 4, 5, 6])"
      ]
     },
     "execution_count": 14,
     "metadata": {},
     "output_type": "execute_result"
    }
   ],
   "source": [
    "arange = torch.arange(7)\n",
    "arange"
   ]
  },
  {
   "cell_type": "code",
   "execution_count": 16,
   "id": "abaa2c44-8ef1-4f94-b01a-34448778e6d2",
   "metadata": {},
   "outputs": [
    {
     "data": {
      "text/plain": [
       "tensor([ 3.0000,  4.7500,  6.5000,  8.2500, 10.0000])"
      ]
     },
     "execution_count": 16,
     "metadata": {},
     "output_type": "execute_result"
    }
   ],
   "source": [
    "linspace = torch.linspace(3, 10, steps = 5)\n",
    "linspace"
   ]
  },
  {
   "cell_type": "code",
   "execution_count": 17,
   "id": "12218c4d-70f4-46ff-93df-a906d75ddf22",
   "metadata": {},
   "outputs": [
    {
     "data": {
      "text/plain": [
       "tensor([1.0000e-10, 1.0000e-05, 1.0000e+00, 1.0000e+05, 1.0000e+10])"
      ]
     },
     "execution_count": 17,
     "metadata": {},
     "output_type": "execute_result"
    }
   ],
   "source": [
    "logspace = torch.logspace(start=-10, end=10, steps=5)\n",
    "logspace"
   ]
  },
  {
   "cell_type": "code",
   "execution_count": 20,
   "id": "c03deadf-47da-4690-891f-1571cc07e056",
   "metadata": {},
   "outputs": [
    {
     "data": {
      "text/plain": [
       "tensor([[1., 0., 0.],\n",
       "        [0., 1., 0.],\n",
       "        [0., 0., 1.]])"
      ]
     },
     "execution_count": 20,
     "metadata": {},
     "output_type": "execute_result"
    }
   ],
   "source": [
    "eye = torch.eye(3)\n",
    "eye"
   ]
  },
  {
   "cell_type": "code",
   "execution_count": 29,
   "id": "30802f9b-beb0-42ce-9dc1-27ce1f0d2b9b",
   "metadata": {},
   "outputs": [
    {
     "name": "stdout",
     "output_type": "stream",
     "text": [
      "tensor([[0, 0, 0],\n",
      "        [0, 0, 0]])\n",
      "tensor([[1, 2, 3],\n",
      "        [4, 5, 6]])\n",
      "tensor([[0, 0, 0],\n",
      "        [0, 0, 0]])\n",
      "tensor([[4176243335152,             0,             0],\n",
      "        [            0,             0,             0]])\n"
     ]
    }
   ],
   "source": [
    "a = torch.empty((2,3), dtype=torch.int64)\n",
    "print(a)\n",
    "b = torch.tensor([[1,2,3],[4,5,6]])\n",
    "print(b)\n",
    "empty_like = torch.empty_like(a)\n",
    "print(empty_like)\n",
    "empty_like2 = torch.empty_like(b)\n",
    "print(empty_like2)"
   ]
  },
  {
   "cell_type": "code",
   "execution_count": null,
   "id": "312726f2-61ce-4d72-8b19-d26cecef8661",
   "metadata": {},
   "outputs": [],
   "source": []
  },
  {
   "cell_type": "code",
   "execution_count": null,
   "id": "275ad70e-af2f-4e5f-8f68-e8f04e7366bf",
   "metadata": {},
   "outputs": [],
   "source": []
  },
  {
   "cell_type": "code",
   "execution_count": null,
   "id": "d5946187-869b-42f4-8368-7101b3ce1948",
   "metadata": {},
   "outputs": [],
   "source": []
  }
 ],
 "metadata": {
  "kernelspec": {
   "display_name": "BUNNU",
   "language": "python",
   "name": "bunnu"
  },
  "language_info": {
   "codemirror_mode": {
    "name": "ipython",
    "version": 3
   },
   "file_extension": ".py",
   "mimetype": "text/x-python",
   "name": "python",
   "nbconvert_exporter": "python",
   "pygments_lexer": "ipython3",
   "version": "3.12.2"
  }
 },
 "nbformat": 4,
 "nbformat_minor": 5
}
