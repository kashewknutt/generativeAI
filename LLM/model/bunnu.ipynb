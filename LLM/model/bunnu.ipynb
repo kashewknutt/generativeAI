{
 "cells": [
  {
   "cell_type": "code",
   "execution_count": 18,
   "id": "936536d7-9e69-427d-931c-0538c3c51967",
   "metadata": {},
   "outputs": [
    {
     "name": "stdout",
     "output_type": "stream",
     "text": [
      "cuda\n"
     ]
    }
   ],
   "source": [
    "import torch\n",
    "device = 'cuda' if torch.cuda.is_available() else 'cpu'\n",
    "print(device)\n",
    "\n",
    "block = 8\n",
    "batch = 4"
   ]
  },
  {
   "cell_type": "code",
   "execution_count": 6,
   "id": "f9ce4d79-65da-439c-81a2-0d15c6d46a78",
   "metadata": {},
   "outputs": [
    {
     "name": "stdout",
     "output_type": "stream",
     "text": [
      "['\\n', ' ', '!', '&', '(', ')', '*', ',', '-', '.', '0', '1', '2', '3', '4', '5', '6', '7', '8', '9', ':', ';', '?', 'A', 'B', 'C', 'D', 'E', 'F', 'G', 'H', 'I', 'J', 'K', 'L', 'M', 'N', 'O', 'P', 'Q', 'R', 'S', 'T', 'U', 'V', 'W', 'Y', 'Z', '[', ']', '_', 'a', 'b', 'c', 'd', 'e', 'f', 'g', 'h', 'i', 'j', 'k', 'l', 'm', 'n', 'o', 'p', 'q', 'r', 's', 't', 'u', 'v', 'w', 'x', 'y', 'z', '£', 'à', 'â', 'ç', 'è', 'é', '—', '‘', '’', '“', '”', '…', '\\ufeff']\n"
     ]
    }
   ],
   "source": [
    "with open('romanceOfLust.txt', 'r', encoding='utf-8') as f:\n",
    "    text = f.read()\n",
    "chars = sorted(set(text))\n",
    "print(chars)\n",
    "vocab_size = len(chars)"
   ]
  },
  {
   "cell_type": "code",
   "execution_count": 12,
   "id": "c06674d4-2c4b-47dd-bb14-788f726c588c",
   "metadata": {},
   "outputs": [
    {
     "name": "stdout",
     "output_type": "stream",
     "text": [
      "1030961\n"
     ]
    }
   ],
   "source": [
    "string_to_int = { ch:i for i,ch in enumerate(chars) }# Assigns every character from the alphabet set an integer coordinate\n",
    "int_to_string = { i:ch for i,ch in enumerate(chars) }# Links ever integer back to the corresponding charater\n",
    "encode = lambda s: [string_to_int[c] for c in s]# \"Encodes\" a character into the corresponding value\n",
    "decode = lambda l: ''.join([int_to_string[i] for i in l])# \"Decodes\" a character back from the integer value to the character\n",
    "\n",
    "data = torch.tensor(encode(text), dtype=torch.long)# Encodes the entire source file into an integer array\n",
    "print(len(data))"
   ]
  },
  {
   "cell_type": "code",
   "execution_count": 14,
   "id": "135829b8-34df-4d4d-8b73-cdc666b40c07",
   "metadata": {},
   "outputs": [
    {
     "name": "stdout",
     "output_type": "stream",
     "text": [
      "927864   103097\n"
     ]
    }
   ],
   "source": [
    "n = int(0.9*len(data))# Spliting the source file into two sets\n",
    "train_set = data[:n]# 90% os file goes into the training set\n",
    "eval_set = data[n:]# rest 10% will be used for evaluation\n",
    "print(len(train_set),\" \",len(eval_set))"
   ]
  },
  {
   "cell_type": "code",
   "execution_count": 19,
   "id": "5856a291-0316-4ad9-90ad-7e3f1c6100eb",
   "metadata": {},
   "outputs": [
    {
     "name": "stdout",
     "output_type": "stream",
     "text": [
      "When input is tensor([89]) Target is: tensor(42)\n",
      "When input is tensor([89, 42]) Target is: tensor(58)\n",
      "When input is tensor([89, 42, 58]) Target is: tensor(55)\n",
      "When input is tensor([89, 42, 58, 55]) Target is: tensor(1)\n",
      "When input is tensor([89, 42, 58, 55,  1]) Target is: tensor(40)\n",
      "When input is tensor([89, 42, 58, 55,  1, 40]) Target is: tensor(65)\n",
      "When input is tensor([89, 42, 58, 55,  1, 40, 65]) Target is: tensor(63)\n",
      "When input is tensor([89, 42, 58, 55,  1, 40, 65, 63]) Target is: tensor(51)\n"
     ]
    }
   ],
   "source": [
    "x = train_set[:block]\n",
    "y = train_set[1:block+1]\n",
    "\n",
    "for t in range(block):\n",
    "    context = x[:t+1]\n",
    "    target = y[t]\n",
    "    print(\"When input is\", context,\"Target is:\", target)"
   ]
  },
  {
   "cell_type": "code",
   "execution_count": null,
   "id": "0f9b1bd3-6197-4d5e-a8d1-ee8c110bb487",
   "metadata": {},
   "outputs": [],
   "source": []
  }
 ],
 "metadata": {
  "kernelspec": {
   "display_name": "BUNNU",
   "language": "python",
   "name": "bunnu"
  },
  "language_info": {
   "codemirror_mode": {
    "name": "ipython",
    "version": 3
   },
   "file_extension": ".py",
   "mimetype": "text/x-python",
   "name": "python",
   "nbconvert_exporter": "python",
   "pygments_lexer": "ipython3",
   "version": "3.12.2"
  }
 },
 "nbformat": 4,
 "nbformat_minor": 5
}
